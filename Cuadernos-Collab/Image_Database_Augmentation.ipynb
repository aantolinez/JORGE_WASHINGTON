{
  "nbformat": 4,
  "nbformat_minor": 0,
  "metadata": {
    "colab": {
      "name": "Image_Database_Augmentation.ipynb",
      "provenance": [],
      "collapsed_sections": []
    },
    "kernelspec": {
      "name": "python3",
      "display_name": "Python 3"
    }
  },
  "cells": [
    {
      "cell_type": "code",
      "metadata": {
        "colab": {
          "base_uri": "https://localhost:8080/"
        },
        "id": "_6m2v53jqq91",
        "outputId": "4862973f-34ef-484b-f1ef-7d6a217dba44"
      },
      "source": [
        "# Se necesita instalar Augmentor. En este caso lo instalo en Colab\r\n",
        "!pip install Augmentor"
      ],
      "execution_count": 4,
      "outputs": [
        {
          "output_type": "stream",
          "text": [
            "Collecting Augmentor\n",
            "  Downloading https://files.pythonhosted.org/packages/cb/79/861f38d5830cff631e30e33b127076bfef8ac98171e51daa06df0118c75f/Augmentor-0.2.8-py2.py3-none-any.whl\n",
            "Requirement already satisfied: Pillow>=5.2.0 in /usr/local/lib/python3.6/dist-packages (from Augmentor) (7.0.0)\n",
            "Requirement already satisfied: numpy>=1.11.0 in /usr/local/lib/python3.6/dist-packages (from Augmentor) (1.19.4)\n",
            "Requirement already satisfied: future>=0.16.0 in /usr/local/lib/python3.6/dist-packages (from Augmentor) (0.16.0)\n",
            "Requirement already satisfied: tqdm>=4.9.0 in /usr/local/lib/python3.6/dist-packages (from Augmentor) (4.41.1)\n",
            "Installing collected packages: Augmentor\n",
            "Successfully installed Augmentor-0.2.8\n"
          ],
          "name": "stdout"
        }
      ]
    },
    {
      "cell_type": "code",
      "metadata": {
        "id": "UYJzyCRmsA2J"
      },
      "source": [
        "# Importo las bibliotecas que voy a necesitar para el proceso\r\n",
        "from bs4 import BeautifulSoup\r\n",
        "import requests\r\n",
        "import re\r\n",
        "import Augmentor\r\n",
        "from google.colab import drive"
      ],
      "execution_count": 36,
      "outputs": []
    },
    {
      "cell_type": "code",
      "metadata": {
        "colab": {
          "base_uri": "https://localhost:8080/"
        },
        "id": "hrPpP75gq_eL",
        "outputId": "840465d3-4948-45ef-b900-229bdd87a4be"
      },
      "source": [
        "# Definir los directorios de origen y destino de los datos\r\n",
        "# En mi caso, monto los recursos de Drive\r\n",
        "\r\n",
        "drive.mount('/content/drive')"
      ],
      "execution_count": 38,
      "outputs": [
        {
          "output_type": "stream",
          "text": [
            "Mounted at /content/drive\n"
          ],
          "name": "stdout"
        }
      ]
    },
    {
      "cell_type": "code",
      "metadata": {
        "id": "NUrroZ37rdN6"
      },
      "source": [
        "# Compruebo que todo haya ido bien revisando el contenido del punto de montaje\r\n",
        "!ls /content/drive/MyDrive/Maiz"
      ],
      "execution_count": null,
      "outputs": []
    },
    {
      "cell_type": "code",
      "metadata": {
        "id": "8YHi88zerqV0"
      },
      "source": [
        "# Defino las variables de entorno. En este caso, el directorio de origen de las imágenes\r\n",
        "RUTA_DESCARGA_JPGS = \"/content/drive/MyDrive/Maiz/\""
      ],
      "execution_count": 42,
      "outputs": []
    },
    {
      "cell_type": "code",
      "metadata": {
        "colab": {
          "base_uri": "https://localhost:8080/"
        },
        "id": "rq33ZW1qv1jk",
        "outputId": "64cce1a3-1551-4bf0-ee21-7f0ca229146e"
      },
      "source": [
        "!ls RUTA_DESCARGA_JPGS"
      ],
      "execution_count": 44,
      "outputs": [
        {
          "output_type": "stream",
          "text": [
            "ls: cannot access 'RUTA_DESCARGA_JPGS': No such file or directory\n"
          ],
          "name": "stdout"
        }
      ]
    },
    {
      "cell_type": "markdown",
      "metadata": {
        "id": "kOcJ0C1OsTcx"
      },
      "source": [
        "### Este código muestra todos los fichero JPG del respositorio. Sin embargo, esas URLs tal como son mostradas NO son las de descarga. Para descargar el fichero como tal, se ha de buscar el fichero binario (RAW)"
      ]
    },
    {
      "cell_type": "code",
      "metadata": {
        "id": "rtbMfeJ_sUAr"
      },
      "source": [
        "https = 'https://github.com' # Encabezado de la url de descara. No dada en el HTML\r\n",
        "# Directorio donde están las fotos\r\n",
        "url_base = 'https://github.com/aantolinez/JORGE_WASHINGTON/blob/a7f02346df9dd7e8f02726f742ad15970784b03f/Imagenes/NoIR/'\r\n",
        "ext = 'jpg' # Extensión de los ficheros buscados\r\n",
        "\r\n",
        "params={'raw': 'true'} # Parámetros para descargar el binario"
      ],
      "execution_count": 45,
      "outputs": []
    },
    {
      "cell_type": "code",
      "metadata": {
        "id": "c1XBeF1WsY6e"
      },
      "source": [
        "page = requests.get(url_base).text\r\n",
        "soup = BeautifulSoup(page, 'html.parser')"
      ],
      "execution_count": 46,
      "outputs": []
    },
    {
      "cell_type": "code",
      "metadata": {
        "id": "BEYUV6E7sdfw"
      },
      "source": [
        "RUTA_DESCARGA_JPGS = \"/content/drive/MyDrive/Maiz/\"\r\n",
        "for link in soup.find_all('a'):\r\n",
        "  txt = link.get('href')\r\n",
        "  x = re.search(\"jpg$\", txt)\r\n",
        "  if x:\r\n",
        "    partes = txt.rsplit(\"/\") # Separo la URL devuelta mediante \"/\" y lo guardo en una lista, cuyo último elemento es el nombre del fichero\r\n",
        "    nombre_fichero = partes[(len(partes) - 1)] # Accedo al último elemento, que es el nombre del fichero\r\n",
        "    fichero_url = https + txt # Concateno el encabezado y el cuerpo de la url\r\n",
        "\r\n",
        "    r = requests.get(fichero_url, stream = True)\r\n",
        "    \r\n",
        "    with open(RUTA_DESCARGA_JPGS + nombre_fichero, \"wb\") as file:\r\n",
        "      for block in r.iter_content(chunk_size = 1024):\r\n",
        "        if block:\r\n",
        "          file.write(block)\r\n",
        "          #print(fichero_url, nombre_fichero)"
      ],
      "execution_count": 49,
      "outputs": []
    },
    {
      "cell_type": "markdown",
      "metadata": {
        "id": "rRYisInn0V7-"
      },
      "source": [
        "### Esto puede ser lo que realmente te interese a ti.\r\n",
        "* Define la ruta de tus ficheros. Si los tienes en tu disco local, sería algo como C:\\\\ruta\\\\a\\\\las\\\\imagenes\\\\"
      ]
    },
    {
      "cell_type": "code",
      "metadata": {
        "id": "EFHILh93stpE"
      },
      "source": [
        "#RUTA_DESCARGA_JPGS = \"/content/drive/MyDrive/Maiz/\"\r\n",
        "p = Augmentor.Pipeline(RUTA_DESCARGA_JPGS) # Inicializamos el directorio de origen y de salida de los datos. Pipeline"
      ],
      "execution_count": null,
      "outputs": []
    },
    {
      "cell_type": "code",
      "metadata": {
        "id": "v_F1Iwc-swcK"
      },
      "source": [
        "# Establecemos las acciones que queremos realizar sobre la base de datos\r\n",
        "p.rotate(probability=0.7, max_left_rotation=10, max_right_rotation=10)\r\n",
        "p.zoom(probability=0.5, min_factor=1.1, max_factor=1.5)\r\n",
        "\r\n",
        "# Primero, volteo horizontal:\r\n",
        "p.flip_left_right(probability=0.4)\r\n",
        "\r\n",
        "# Segundo, volteo vertical:\r\n",
        "p.flip_top_bottom(probability=0.8)\r\n",
        "\r\n",
        "# Tercero, añadimos una rotación de 90 grados:\r\n",
        "p.rotate90(probability=0.1)"
      ],
      "execution_count": null,
      "outputs": []
    },
    {
      "cell_type": "code",
      "metadata": {
        "id": "mS-TmYraszb1"
      },
      "source": [
        "# Establecemos el tamaño de la muestra, (número de imágenes), que queremos generar\r\n",
        "# En este caso, genero 100 nuevas imágenes ... Tu puedes generar la que necesites\r\n",
        "num_of_samples = int(1e2) # 1e2 = 100, 1e3 = 1000\r\n",
        "\r\n",
        "p.sample(num_of_samples) # Los ficheros se depositarán en RUTA_DESCARGA_JPGS/output"
      ],
      "execution_count": null,
      "outputs": []
    }
  ]
}